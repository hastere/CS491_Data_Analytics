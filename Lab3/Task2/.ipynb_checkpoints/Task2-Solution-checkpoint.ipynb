{
 "cells": [
  {
   "cell_type": "code",
   "execution_count": 1,
   "metadata": {},
   "outputs": [
    {
     "name": "stderr",
     "output_type": "stream",
     "text": [
      "Using TensorFlow backend.\n"
     ]
    }
   ],
   "source": [
    "from keras.applications.resnet50 import ResNet50\n",
    "from keras.preprocessing import image\n",
    "from keras.applications.resnet50 import preprocess_input, decode_predictions\n",
    "import numpy as np"
   ]
  },
  {
   "cell_type": "code",
   "execution_count": 2,
   "metadata": {},
   "outputs": [],
   "source": [
    "model = ResNet50(weights='imagenet')"
   ]
  },
  {
   "cell_type": "markdown",
   "metadata": {},
   "source": [
    "# Load the training images\n",
    "     NoRoadSideProtection = class 0\n",
    "     RoadsideBarriers = class 1\n",
    "     RumbleStrips = class 2"
   ]
  },
  {
   "cell_type": "code",
   "execution_count": 10,
   "metadata": {},
   "outputs": [],
   "source": [
    "import os\n",
    "X_train = []\n",
    "Y_train = []\n"
   ]
  },
  {
   "cell_type": "code",
   "execution_count": 11,
   "metadata": {},
   "outputs": [],
   "source": [
    "#TODO: Read images of class type 'NoRoadSideProtection'\n",
    "Path_of_the_image_folder = \"D:\\\\Arpan\\\\DataScience\\\\Lab3\\\\Task2\\\\Train\\\\NoRoadSideProtection\"\n",
    "for file in os.listdir(Path_of_the_image_folder):\n",
    "    img = image.load_img(Path_of_the_image_folder+'\\\\'+file, target_size=(224, 224))\n",
    "    x = image.img_to_array(img)\n",
    "    #x = np.expand_dims(x, axis=0)\n",
    "    x = preprocess_input(x)\n",
    "    X_train.append(x)\n",
    "    Y_train.append(0)"
   ]
  },
  {
   "cell_type": "code",
   "execution_count": 12,
   "metadata": {},
   "outputs": [],
   "source": [
    "#TODO: Read images of class type 'RoadsideBarriers'\n",
    "Path_of_the_image_folder = \"D:\\\\Arpan\\\\DataScience\\\\Lab3\\\\Task2\\\\Train\\\\RoadsideBarriers\"\n",
    "for file in os.listdir(Path_of_the_image_folder):\n",
    "    img = image.load_img(Path_of_the_image_folder+'\\\\'+file, target_size=(224, 224))\n",
    "    x = image.img_to_array(img)\n",
    "    #x = np.expand_dims(x, axis=0)\n",
    "    x = preprocess_input(x)\n",
    "    X_train.append(x)\n",
    "    Y_train.append(0)"
   ]
  },
  {
   "cell_type": "code",
   "execution_count": 13,
   "metadata": {},
   "outputs": [],
   "source": [
    "#TODO: Read images of class type 'RumbleStrips'\n",
    "Path_of_the_image_folder = \"D:\\\\Arpan\\\\DataScience\\\\Lab3\\\\Task2\\\\Train\\\\RumbleStrips\"\n",
    "#TODO: Ends\n",
    "for file in os.listdir(Path_of_the_image_folder):\n",
    "    img = image.load_img(Path_of_the_image_folder+'\\\\'+file, target_size=(224, 224))\n",
    "    x = image.img_to_array(img)\n",
    "    #x = np.expand_dims(x, axis=0)\n",
    "    x = preprocess_input(x)\n",
    "    X_train.append(x)\n",
    "    Y_train.append(1)"
   ]
  },
  {
   "cell_type": "code",
   "execution_count": 14,
   "metadata": {},
   "outputs": [],
   "source": [
    "X_train =np.asarray(X_train)"
   ]
  },
  {
   "cell_type": "code",
   "execution_count": 15,
   "metadata": {},
   "outputs": [
    {
     "data": {
      "text/plain": [
       "(150, 224, 224, 3)"
      ]
     },
     "execution_count": 15,
     "metadata": {},
     "output_type": "execute_result"
    }
   ],
   "source": [
    "X_train.shape"
   ]
  },
  {
   "cell_type": "code",
   "execution_count": 16,
   "metadata": {},
   "outputs": [],
   "source": [
    "from sklearn.utils import shuffle\n",
    "X_train, Y_train = shuffle(X_train, Y_train, random_state=1000)"
   ]
  },
  {
   "cell_type": "code",
   "execution_count": 17,
   "metadata": {},
   "outputs": [],
   "source": [
    "from keras.optimizers import Adam, SGD\n",
    "model.compile(loss='sparse_categorical_crossentropy',\n",
    "              optimizer=Adam(lr=0.0001),\n",
    "              metrics=['acc'])"
   ]
  },
  {
   "cell_type": "code",
   "execution_count": 20,
   "metadata": {},
   "outputs": [
    {
     "name": "stdout",
     "output_type": "stream",
     "text": [
      "Train on 105 samples, validate on 45 samples\n",
      "Epoch 1/20\n",
      "105/105 [==============================] - 7s 62ms/step - loss: 0.0320 - acc: 0.9905 - val_loss: 7.5894e-04 - val_acc: 1.0000\n",
      "Epoch 2/20\n",
      "105/105 [==============================] - 4s 38ms/step - loss: 0.0617 - acc: 0.9714 - val_loss: 0.0731 - val_acc: 0.9778\n",
      "Epoch 3/20\n",
      "105/105 [==============================] - 4s 38ms/step - loss: 0.0468 - acc: 0.9810 - val_loss: 0.0615 - val_acc: 0.9556\n",
      "Epoch 4/20\n",
      "105/105 [==============================] - 4s 38ms/step - loss: 0.0366 - acc: 0.9905 - val_loss: 0.0315 - val_acc: 1.0000\n",
      "Epoch 5/20\n",
      "105/105 [==============================] - 4s 38ms/step - loss: 0.0690 - acc: 0.9714 - val_loss: 0.0803 - val_acc: 0.9778\n",
      "Epoch 6/20\n",
      "105/105 [==============================] - 4s 38ms/step - loss: 0.0809 - acc: 0.9619 - val_loss: 0.0876 - val_acc: 0.9778\n",
      "Epoch 7/20\n",
      "105/105 [==============================] - 4s 38ms/step - loss: 0.0328 - acc: 0.9905 - val_loss: 0.0390 - val_acc: 1.0000\n",
      "Epoch 8/20\n",
      "105/105 [==============================] - 4s 38ms/step - loss: 0.0235 - acc: 0.9905 - val_loss: 0.0401 - val_acc: 1.0000\n",
      "Epoch 9/20\n",
      "105/105 [==============================] - 4s 38ms/step - loss: 0.0804 - acc: 0.9714 - val_loss: 0.0220 - val_acc: 1.0000\n",
      "Epoch 10/20\n",
      "105/105 [==============================] - 4s 38ms/step - loss: 0.1302 - acc: 0.9619 - val_loss: 0.2547 - val_acc: 0.9333\n",
      "Epoch 11/20\n",
      "105/105 [==============================] - 4s 38ms/step - loss: 0.1235 - acc: 0.9524 - val_loss: 0.0999 - val_acc: 0.9778\n",
      "Epoch 12/20\n",
      "105/105 [==============================] - 4s 38ms/step - loss: 0.0571 - acc: 0.9714 - val_loss: 0.4477 - val_acc: 0.8889\n",
      "Epoch 13/20\n",
      "105/105 [==============================] - 4s 38ms/step - loss: 0.0194 - acc: 1.0000 - val_loss: 0.2540 - val_acc: 0.9333\n",
      "Epoch 14/20\n",
      "105/105 [==============================] - 4s 38ms/step - loss: 0.0111 - acc: 1.0000 - val_loss: 0.1244 - val_acc: 0.9556\n",
      "Epoch 15/20\n",
      "105/105 [==============================] - 4s 38ms/step - loss: 0.0023 - acc: 1.0000 - val_loss: 0.0968 - val_acc: 0.9556\n",
      "Epoch 16/20\n",
      "105/105 [==============================] - 4s 38ms/step - loss: 0.0021 - acc: 1.0000 - val_loss: 0.0745 - val_acc: 0.9556\n",
      "Epoch 17/20\n",
      "105/105 [==============================] - 4s 38ms/step - loss: 0.0061 - acc: 1.0000 - val_loss: 0.0508 - val_acc: 0.9778\n",
      "Epoch 18/20\n",
      "105/105 [==============================] - 4s 38ms/step - loss: 0.0074 - acc: 1.0000 - val_loss: 0.0322 - val_acc: 0.9778\n",
      "Epoch 19/20\n",
      "105/105 [==============================] - 4s 38ms/step - loss: 8.4249e-04 - acc: 1.0000 - val_loss: 0.0320 - val_acc: 0.9778\n",
      "Epoch 20/20\n",
      "105/105 [==============================] - 4s 38ms/step - loss: 0.0022 - acc: 1.0000 - val_loss: 0.0318 - val_acc: 0.9778\n"
     ]
    },
    {
     "data": {
      "text/plain": [
       "<keras.callbacks.History at 0x283de6f9ef0>"
      ]
     },
     "execution_count": 20,
     "metadata": {},
     "output_type": "execute_result"
    }
   ],
   "source": [
    "model.fit(X_train,Y_train, validation_split=0.3,  epochs=20, batch_size=8)"
   ]
  },
  {
   "cell_type": "markdown",
   "metadata": {},
   "source": [
    "# Train the model with new training data"
   ]
  },
  {
   "cell_type": "code",
   "execution_count": null,
   "metadata": {},
   "outputs": [],
   "source": [
    "#TODO: run model.fit with epochs= 20, batchsize = 8, validation split of 0.3"
   ]
  }
 ],
 "metadata": {
  "kernelspec": {
   "display_name": "Python 3",
   "language": "python",
   "name": "python3"
  },
  "language_info": {
   "codemirror_mode": {
    "name": "ipython",
    "version": 3
   },
   "file_extension": ".py",
   "mimetype": "text/x-python",
   "name": "python",
   "nbconvert_exporter": "python",
   "pygments_lexer": "ipython3",
   "version": "3.5.6"
  }
 },
 "nbformat": 4,
 "nbformat_minor": 2
}
